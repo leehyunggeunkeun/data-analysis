{
 "cells": [
  {
   "cell_type": "code",
   "execution_count": 1,
   "metadata": {},
   "outputs": [],
   "source": [
    "# 박조은 강사님의 edwith 부스트코스의 데이터분석 강의를 보고 필사한 것이며\n",
    "# 알게 된 점이나 느낀 점등을 옆에 주석으로 달아놓은 자료 입니다."
   ]
  },
  {
   "cell_type": "code",
   "execution_count": 2,
   "metadata": {},
   "outputs": [],
   "source": [
    "import pandas as pd\n",
    "import numpy as np\n",
    "import seaborn as sns\n",
    "import matplotlib.pyplot as plt"
   ]
  },
  {
   "cell_type": "code",
   "execution_count": 3,
   "metadata": {},
   "outputs": [
    {
     "data": {
      "text/html": [
       "<div>\n",
       "<style scoped>\n",
       "    .dataframe tbody tr th:only-of-type {\n",
       "        vertical-align: middle;\n",
       "    }\n",
       "\n",
       "    .dataframe tbody tr th {\n",
       "        vertical-align: top;\n",
       "    }\n",
       "\n",
       "    .dataframe thead th {\n",
       "        text-align: right;\n",
       "    }\n",
       "</style>\n",
       "<table border=\"1\" class=\"dataframe\">\n",
       "  <thead>\n",
       "    <tr style=\"text-align: right;\">\n",
       "      <th></th>\n",
       "      <th>Pregnancies</th>\n",
       "      <th>Glucose</th>\n",
       "      <th>BloodPressure</th>\n",
       "      <th>SkinThickness</th>\n",
       "      <th>Insulin</th>\n",
       "      <th>BMI</th>\n",
       "      <th>DiabetesPedigreeFunction</th>\n",
       "      <th>Age</th>\n",
       "      <th>Outcome</th>\n",
       "    </tr>\n",
       "  </thead>\n",
       "  <tbody>\n",
       "    <tr>\n",
       "      <th>0</th>\n",
       "      <td>6</td>\n",
       "      <td>148</td>\n",
       "      <td>72</td>\n",
       "      <td>35</td>\n",
       "      <td>0</td>\n",
       "      <td>33.6</td>\n",
       "      <td>0.627</td>\n",
       "      <td>50</td>\n",
       "      <td>1</td>\n",
       "    </tr>\n",
       "    <tr>\n",
       "      <th>1</th>\n",
       "      <td>1</td>\n",
       "      <td>85</td>\n",
       "      <td>66</td>\n",
       "      <td>29</td>\n",
       "      <td>0</td>\n",
       "      <td>26.6</td>\n",
       "      <td>0.351</td>\n",
       "      <td>31</td>\n",
       "      <td>0</td>\n",
       "    </tr>\n",
       "    <tr>\n",
       "      <th>2</th>\n",
       "      <td>8</td>\n",
       "      <td>183</td>\n",
       "      <td>64</td>\n",
       "      <td>0</td>\n",
       "      <td>0</td>\n",
       "      <td>23.3</td>\n",
       "      <td>0.672</td>\n",
       "      <td>32</td>\n",
       "      <td>1</td>\n",
       "    </tr>\n",
       "    <tr>\n",
       "      <th>3</th>\n",
       "      <td>1</td>\n",
       "      <td>89</td>\n",
       "      <td>66</td>\n",
       "      <td>23</td>\n",
       "      <td>94</td>\n",
       "      <td>28.1</td>\n",
       "      <td>0.167</td>\n",
       "      <td>21</td>\n",
       "      <td>0</td>\n",
       "    </tr>\n",
       "    <tr>\n",
       "      <th>4</th>\n",
       "      <td>0</td>\n",
       "      <td>137</td>\n",
       "      <td>40</td>\n",
       "      <td>35</td>\n",
       "      <td>168</td>\n",
       "      <td>43.1</td>\n",
       "      <td>2.288</td>\n",
       "      <td>33</td>\n",
       "      <td>1</td>\n",
       "    </tr>\n",
       "  </tbody>\n",
       "</table>\n",
       "</div>"
      ],
      "text/plain": [
       "   Pregnancies  Glucose  BloodPressure  SkinThickness  Insulin   BMI  \\\n",
       "0            6      148             72             35        0  33.6   \n",
       "1            1       85             66             29        0  26.6   \n",
       "2            8      183             64              0        0  23.3   \n",
       "3            1       89             66             23       94  28.1   \n",
       "4            0      137             40             35      168  43.1   \n",
       "\n",
       "   DiabetesPedigreeFunction  Age  Outcome  \n",
       "0                     0.627   50        1  \n",
       "1                     0.351   31        0  \n",
       "2                     0.672   32        1  \n",
       "3                     0.167   21        0  \n",
       "4                     2.288   33        1  "
      ]
     },
     "execution_count": 3,
     "metadata": {},
     "output_type": "execute_result"
    }
   ],
   "source": [
    "df=pd.read_csv('diabetes.csv')\n",
    "df.head()"
   ]
  },
  {
   "cell_type": "code",
   "execution_count": 4,
   "metadata": {},
   "outputs": [
    {
     "data": {
      "text/plain": [
       "(768, 9)"
      ]
     },
     "execution_count": 4,
     "metadata": {},
     "output_type": "execute_result"
    }
   ],
   "source": [
    "df.shape"
   ]
  },
  {
   "cell_type": "code",
   "execution_count": 5,
   "metadata": {},
   "outputs": [
    {
     "name": "stdout",
     "output_type": "stream",
     "text": [
      "<class 'pandas.core.frame.DataFrame'>\n",
      "RangeIndex: 768 entries, 0 to 767\n",
      "Data columns (total 9 columns):\n",
      " #   Column                    Non-Null Count  Dtype  \n",
      "---  ------                    --------------  -----  \n",
      " 0   Pregnancies               768 non-null    int64  \n",
      " 1   Glucose                   768 non-null    int64  \n",
      " 2   BloodPressure             768 non-null    int64  \n",
      " 3   SkinThickness             768 non-null    int64  \n",
      " 4   Insulin                   768 non-null    int64  \n",
      " 5   BMI                       768 non-null    float64\n",
      " 6   DiabetesPedigreeFunction  768 non-null    float64\n",
      " 7   Age                       768 non-null    int64  \n",
      " 8   Outcome                   768 non-null    int64  \n",
      "dtypes: float64(2), int64(7)\n",
      "memory usage: 54.1 KB\n"
     ]
    }
   ],
   "source": [
    "df.info()"
   ]
  },
  {
   "cell_type": "code",
   "execution_count": 6,
   "metadata": {},
   "outputs": [
    {
     "data": {
      "text/html": [
       "<div>\n",
       "<style scoped>\n",
       "    .dataframe tbody tr th:only-of-type {\n",
       "        vertical-align: middle;\n",
       "    }\n",
       "\n",
       "    .dataframe tbody tr th {\n",
       "        vertical-align: top;\n",
       "    }\n",
       "\n",
       "    .dataframe thead th {\n",
       "        text-align: right;\n",
       "    }\n",
       "</style>\n",
       "<table border=\"1\" class=\"dataframe\">\n",
       "  <thead>\n",
       "    <tr style=\"text-align: right;\">\n",
       "      <th></th>\n",
       "      <th>Pregnancies</th>\n",
       "      <th>Glucose</th>\n",
       "      <th>BloodPressure</th>\n",
       "      <th>SkinThickness</th>\n",
       "      <th>Insulin</th>\n",
       "      <th>BMI</th>\n",
       "      <th>DiabetesPedigreeFunction</th>\n",
       "      <th>Age</th>\n",
       "      <th>Outcome</th>\n",
       "    </tr>\n",
       "  </thead>\n",
       "  <tbody>\n",
       "    <tr>\n",
       "      <th>count</th>\n",
       "      <td>768.000000</td>\n",
       "      <td>768.000000</td>\n",
       "      <td>768.000000</td>\n",
       "      <td>768.000000</td>\n",
       "      <td>768.000000</td>\n",
       "      <td>768.000000</td>\n",
       "      <td>768.000000</td>\n",
       "      <td>768.000000</td>\n",
       "      <td>768.000000</td>\n",
       "    </tr>\n",
       "    <tr>\n",
       "      <th>mean</th>\n",
       "      <td>3.845052</td>\n",
       "      <td>120.894531</td>\n",
       "      <td>69.105469</td>\n",
       "      <td>20.536458</td>\n",
       "      <td>79.799479</td>\n",
       "      <td>31.992578</td>\n",
       "      <td>0.471876</td>\n",
       "      <td>33.240885</td>\n",
       "      <td>0.348958</td>\n",
       "    </tr>\n",
       "    <tr>\n",
       "      <th>std</th>\n",
       "      <td>3.369578</td>\n",
       "      <td>31.972618</td>\n",
       "      <td>19.355807</td>\n",
       "      <td>15.952218</td>\n",
       "      <td>115.244002</td>\n",
       "      <td>7.884160</td>\n",
       "      <td>0.331329</td>\n",
       "      <td>11.760232</td>\n",
       "      <td>0.476951</td>\n",
       "    </tr>\n",
       "    <tr>\n",
       "      <th>min</th>\n",
       "      <td>0.000000</td>\n",
       "      <td>0.000000</td>\n",
       "      <td>0.000000</td>\n",
       "      <td>0.000000</td>\n",
       "      <td>0.000000</td>\n",
       "      <td>0.000000</td>\n",
       "      <td>0.078000</td>\n",
       "      <td>21.000000</td>\n",
       "      <td>0.000000</td>\n",
       "    </tr>\n",
       "    <tr>\n",
       "      <th>25%</th>\n",
       "      <td>1.000000</td>\n",
       "      <td>99.000000</td>\n",
       "      <td>62.000000</td>\n",
       "      <td>0.000000</td>\n",
       "      <td>0.000000</td>\n",
       "      <td>27.300000</td>\n",
       "      <td>0.243750</td>\n",
       "      <td>24.000000</td>\n",
       "      <td>0.000000</td>\n",
       "    </tr>\n",
       "    <tr>\n",
       "      <th>50%</th>\n",
       "      <td>3.000000</td>\n",
       "      <td>117.000000</td>\n",
       "      <td>72.000000</td>\n",
       "      <td>23.000000</td>\n",
       "      <td>30.500000</td>\n",
       "      <td>32.000000</td>\n",
       "      <td>0.372500</td>\n",
       "      <td>29.000000</td>\n",
       "      <td>0.000000</td>\n",
       "    </tr>\n",
       "    <tr>\n",
       "      <th>75%</th>\n",
       "      <td>6.000000</td>\n",
       "      <td>140.250000</td>\n",
       "      <td>80.000000</td>\n",
       "      <td>32.000000</td>\n",
       "      <td>127.250000</td>\n",
       "      <td>36.600000</td>\n",
       "      <td>0.626250</td>\n",
       "      <td>41.000000</td>\n",
       "      <td>1.000000</td>\n",
       "    </tr>\n",
       "    <tr>\n",
       "      <th>max</th>\n",
       "      <td>17.000000</td>\n",
       "      <td>199.000000</td>\n",
       "      <td>122.000000</td>\n",
       "      <td>99.000000</td>\n",
       "      <td>846.000000</td>\n",
       "      <td>67.100000</td>\n",
       "      <td>2.420000</td>\n",
       "      <td>81.000000</td>\n",
       "      <td>1.000000</td>\n",
       "    </tr>\n",
       "  </tbody>\n",
       "</table>\n",
       "</div>"
      ],
      "text/plain": [
       "       Pregnancies     Glucose  BloodPressure  SkinThickness     Insulin  \\\n",
       "count   768.000000  768.000000     768.000000     768.000000  768.000000   \n",
       "mean      3.845052  120.894531      69.105469      20.536458   79.799479   \n",
       "std       3.369578   31.972618      19.355807      15.952218  115.244002   \n",
       "min       0.000000    0.000000       0.000000       0.000000    0.000000   \n",
       "25%       1.000000   99.000000      62.000000       0.000000    0.000000   \n",
       "50%       3.000000  117.000000      72.000000      23.000000   30.500000   \n",
       "75%       6.000000  140.250000      80.000000      32.000000  127.250000   \n",
       "max      17.000000  199.000000     122.000000      99.000000  846.000000   \n",
       "\n",
       "              BMI  DiabetesPedigreeFunction         Age     Outcome  \n",
       "count  768.000000                768.000000  768.000000  768.000000  \n",
       "mean    31.992578                  0.471876   33.240885    0.348958  \n",
       "std      7.884160                  0.331329   11.760232    0.476951  \n",
       "min      0.000000                  0.078000   21.000000    0.000000  \n",
       "25%     27.300000                  0.243750   24.000000    0.000000  \n",
       "50%     32.000000                  0.372500   29.000000    0.000000  \n",
       "75%     36.600000                  0.626250   41.000000    1.000000  \n",
       "max     67.100000                  2.420000   81.000000    1.000000  "
      ]
     },
     "execution_count": 6,
     "metadata": {},
     "output_type": "execute_result"
    }
   ],
   "source": [
    "df.describe() #Glucose\tBloodPressure\tSkinThickness\tInsulin\tBMI 최소가 0인데 말이안됨 이것들이 결측치 아닐까??"
   ]
  },
  {
   "cell_type": "code",
   "execution_count": 7,
   "metadata": {},
   "outputs": [
    {
     "data": {
      "text/plain": [
       "Pregnancies                 0\n",
       "Glucose                     0\n",
       "BloodPressure               0\n",
       "SkinThickness               0\n",
       "Insulin                     0\n",
       "BMI                         0\n",
       "DiabetesPedigreeFunction    0\n",
       "Age                         0\n",
       "Outcome                     0\n",
       "dtype: int64"
      ]
     },
     "execution_count": 7,
     "metadata": {},
     "output_type": "execute_result"
    }
   ],
   "source": [
    "df_null=df.isnull().sum()\n",
    "df_null"
   ]
  },
  {
   "cell_type": "code",
   "execution_count": 8,
   "metadata": {},
   "outputs": [
    {
     "data": {
      "text/plain": [
       "['Pregnancies',\n",
       " 'Glucose',\n",
       " 'BloodPressure',\n",
       " 'SkinThickness',\n",
       " 'Insulin',\n",
       " 'BMI',\n",
       " 'DiabetesPedigreeFunction',\n",
       " 'Age']"
      ]
     },
     "execution_count": 8,
     "metadata": {},
     "output_type": "execute_result"
    }
   ],
   "source": [
    "feature_names=df.columns[:-1].tolist()\n",
    "feature_names"
   ]
  },
  {
   "cell_type": "markdown",
   "metadata": {},
   "source": [
    "# 결측치 시각화"
   ]
  },
  {
   "cell_type": "code",
   "execution_count": 9,
   "metadata": {},
   "outputs": [
    {
     "data": {
      "text/plain": [
       "['Glucose', 'BloodPressure', 'SkinThickness', 'Insulin', 'BMI']"
      ]
     },
     "execution_count": 9,
     "metadata": {},
     "output_type": "execute_result"
    }
   ],
   "source": [
    "cols=feature_names[1:-2]\n",
    "cols"
   ]
  },
  {
   "cell_type": "code",
   "execution_count": 10,
   "metadata": {},
   "outputs": [
    {
     "data": {
      "text/plain": [
       "Glucose            5\n",
       "BloodPressure     35\n",
       "SkinThickness    227\n",
       "Insulin          374\n",
       "BMI               11\n",
       "dtype: int64"
      ]
     },
     "execution_count": 10,
     "metadata": {},
     "output_type": "execute_result"
    }
   ],
   "source": [
    "df_null=df[cols].replace(0,np.nan)\n",
    "df_null.isnull().sum()"
   ]
  },
  {
   "cell_type": "code",
   "execution_count": 11,
   "metadata": {},
   "outputs": [
    {
     "data": {
      "text/plain": [
       "<matplotlib.axes._subplots.AxesSubplot at 0x153201ee388>"
      ]
     },
     "execution_count": 11,
     "metadata": {},
     "output_type": "execute_result"
    },
    {
     "data": {
      "image/png": "[encoded data removed]",
      "text/plain": [
       "<Figure size 432x288 with 1 Axes>"
      ]
     },
     "metadata": {
      "needs_background": "light"
     },
     "output_type": "display_data"
    }
   ],
   "source": [
    "df_null.isnull().sum().plot.barh()"
   ]
  },
  {
   "cell_type": "code",
   "execution_count": 12,
   "metadata": {},
   "outputs": [
    {
     "data": {
      "text/plain": [
       "<matplotlib.axes._subplots.AxesSubplot at 0x1532096b408>"
      ]
     },
     "execution_count": 12,
     "metadata": {},
     "output_type": "execute_result"
    },
    {
     "data": {
      "image/png": "[encoded data removed]",
      "text/plain": [
       "<Figure size 720x360 with 2 Axes>"
      ]
     },
     "metadata": {
      "needs_background": "light"
     },
     "output_type": "display_data"
    }
   ],
   "source": [
    "plt.figure(figsize=(10,5))\n",
    "sns.heatmap(df_null.isnull(),cmap='Blues',annot=True)"
   ]
  },
  {
   "cell_type": "code",
   "execution_count": 13,
   "metadata": {},
   "outputs": [
    {
     "data": {
      "text/plain": [
       "0    500\n",
       "1    268\n",
       "Name: Outcome, dtype: int64"
      ]
     },
     "execution_count": 13,
     "metadata": {},
     "output_type": "execute_result"
    }
   ],
   "source": [
    "df['Outcome'].value_counts()  #빈도수 세기 "
   ]
  },
  {
   "cell_type": "code",
   "execution_count": 14,
   "metadata": {},
   "outputs": [
    {
     "data": {
      "text/html": [
       "<div>\n",
       "<style scoped>\n",
       "    .dataframe tbody tr th:only-of-type {\n",
       "        vertical-align: middle;\n",
       "    }\n",
       "\n",
       "    .dataframe tbody tr th {\n",
       "        vertical-align: top;\n",
       "    }\n",
       "\n",
       "    .dataframe thead th {\n",
       "        text-align: right;\n",
       "    }\n",
       "</style>\n",
       "<table border=\"1\" class=\"dataframe\">\n",
       "  <thead>\n",
       "    <tr style=\"text-align: right;\">\n",
       "      <th></th>\n",
       "      <th>Pregnancies</th>\n",
       "      <th>mean</th>\n",
       "      <th>count</th>\n",
       "    </tr>\n",
       "  </thead>\n",
       "  <tbody>\n",
       "    <tr>\n",
       "      <th>0</th>\n",
       "      <td>0</td>\n",
       "      <td>0.342342</td>\n",
       "      <td>111</td>\n",
       "    </tr>\n",
       "    <tr>\n",
       "      <th>1</th>\n",
       "      <td>1</td>\n",
       "      <td>0.214815</td>\n",
       "      <td>135</td>\n",
       "    </tr>\n",
       "    <tr>\n",
       "      <th>2</th>\n",
       "      <td>2</td>\n",
       "      <td>0.184466</td>\n",
       "      <td>103</td>\n",
       "    </tr>\n",
       "    <tr>\n",
       "      <th>3</th>\n",
       "      <td>3</td>\n",
       "      <td>0.360000</td>\n",
       "      <td>75</td>\n",
       "    </tr>\n",
       "    <tr>\n",
       "      <th>4</th>\n",
       "      <td>4</td>\n",
       "      <td>0.338235</td>\n",
       "      <td>68</td>\n",
       "    </tr>\n",
       "    <tr>\n",
       "      <th>5</th>\n",
       "      <td>5</td>\n",
       "      <td>0.368421</td>\n",
       "      <td>57</td>\n",
       "    </tr>\n",
       "    <tr>\n",
       "      <th>6</th>\n",
       "      <td>6</td>\n",
       "      <td>0.320000</td>\n",
       "      <td>50</td>\n",
       "    </tr>\n",
       "    <tr>\n",
       "      <th>7</th>\n",
       "      <td>7</td>\n",
       "      <td>0.555556</td>\n",
       "      <td>45</td>\n",
       "    </tr>\n",
       "    <tr>\n",
       "      <th>8</th>\n",
       "      <td>8</td>\n",
       "      <td>0.578947</td>\n",
       "      <td>38</td>\n",
       "    </tr>\n",
       "    <tr>\n",
       "      <th>9</th>\n",
       "      <td>9</td>\n",
       "      <td>0.642857</td>\n",
       "      <td>28</td>\n",
       "    </tr>\n",
       "    <tr>\n",
       "      <th>10</th>\n",
       "      <td>10</td>\n",
       "      <td>0.416667</td>\n",
       "      <td>24</td>\n",
       "    </tr>\n",
       "    <tr>\n",
       "      <th>11</th>\n",
       "      <td>11</td>\n",
       "      <td>0.636364</td>\n",
       "      <td>11</td>\n",
       "    </tr>\n",
       "    <tr>\n",
       "      <th>12</th>\n",
       "      <td>12</td>\n",
       "      <td>0.444444</td>\n",
       "      <td>9</td>\n",
       "    </tr>\n",
       "    <tr>\n",
       "      <th>13</th>\n",
       "      <td>13</td>\n",
       "      <td>0.500000</td>\n",
       "      <td>10</td>\n",
       "    </tr>\n",
       "    <tr>\n",
       "      <th>14</th>\n",
       "      <td>14</td>\n",
       "      <td>1.000000</td>\n",
       "      <td>2</td>\n",
       "    </tr>\n",
       "    <tr>\n",
       "      <th>15</th>\n",
       "      <td>15</td>\n",
       "      <td>1.000000</td>\n",
       "      <td>1</td>\n",
       "    </tr>\n",
       "    <tr>\n",
       "      <th>16</th>\n",
       "      <td>17</td>\n",
       "      <td>1.000000</td>\n",
       "      <td>1</td>\n",
       "    </tr>\n",
       "  </tbody>\n",
       "</table>\n",
       "</div>"
      ],
      "text/plain": [
       "    Pregnancies      mean  count\n",
       "0             0  0.342342    111\n",
       "1             1  0.214815    135\n",
       "2             2  0.184466    103\n",
       "3             3  0.360000     75\n",
       "4             4  0.338235     68\n",
       "5             5  0.368421     57\n",
       "6             6  0.320000     50\n",
       "7             7  0.555556     45\n",
       "8             8  0.578947     38\n",
       "9             9  0.642857     28\n",
       "10           10  0.416667     24\n",
       "11           11  0.636364     11\n",
       "12           12  0.444444      9\n",
       "13           13  0.500000     10\n",
       "14           14  1.000000      2\n",
       "15           15  1.000000      1\n",
       "16           17  1.000000      1"
      ]
     },
     "execution_count": 14,
     "metadata": {},
     "output_type": "execute_result"
    }
   ],
   "source": [
    "df_po=df.groupby(['Pregnancies'])['Outcome'].agg(['mean','count']).reset_index()  #pregnancie를 컬럼으로 만든다\n",
    "df_po"
   ]
  },
  {
   "cell_type": "code",
   "execution_count": 15,
   "metadata": {},
   "outputs": [
    {
     "data": {
      "text/plain": [
       "<matplotlib.axes._subplots.AxesSubplot at 0x153228b6908>"
      ]
     },
     "execution_count": 15,
     "metadata": {},
     "output_type": "execute_result"
    },
    {
     "data": {
      "image/png": "[encoded data removed]",
      "text/plain": [
       "<Figure size 432x288 with 1 Axes>"
      ]
     },
     "metadata": {
      "needs_background": "light"
     },
     "output_type": "display_data"
    }
   ],
   "source": [
    "sns.countplot(data=df,x='Pregnancies',hue='Outcome')"
   ]
  },
  {
   "cell_type": "code",
   "execution_count": 16,
   "metadata": {},
   "outputs": [
    {
     "data": {
      "text/html": [
       "<div>\n",
       "<style scoped>\n",
       "    .dataframe tbody tr th:only-of-type {\n",
       "        vertical-align: middle;\n",
       "    }\n",
       "\n",
       "    .dataframe tbody tr th {\n",
       "        vertical-align: top;\n",
       "    }\n",
       "\n",
       "    .dataframe thead th {\n",
       "        text-align: right;\n",
       "    }\n",
       "</style>\n",
       "<table border=\"1\" class=\"dataframe\">\n",
       "  <thead>\n",
       "    <tr style=\"text-align: right;\">\n",
       "      <th></th>\n",
       "      <th>Pregnancies</th>\n",
       "      <th>Pregnancies_high</th>\n",
       "    </tr>\n",
       "  </thead>\n",
       "  <tbody>\n",
       "    <tr>\n",
       "      <th>0</th>\n",
       "      <td>6</td>\n",
       "      <td>False</td>\n",
       "    </tr>\n",
       "    <tr>\n",
       "      <th>1</th>\n",
       "      <td>1</td>\n",
       "      <td>False</td>\n",
       "    </tr>\n",
       "    <tr>\n",
       "      <th>2</th>\n",
       "      <td>8</td>\n",
       "      <td>True</td>\n",
       "    </tr>\n",
       "    <tr>\n",
       "      <th>3</th>\n",
       "      <td>1</td>\n",
       "      <td>False</td>\n",
       "    </tr>\n",
       "    <tr>\n",
       "      <th>4</th>\n",
       "      <td>0</td>\n",
       "      <td>False</td>\n",
       "    </tr>\n",
       "  </tbody>\n",
       "</table>\n",
       "</div>"
      ],
      "text/plain": [
       "   Pregnancies  Pregnancies_high\n",
       "0            6             False\n",
       "1            1             False\n",
       "2            8              True\n",
       "3            1             False\n",
       "4            0             False"
      ]
     },
     "execution_count": 16,
     "metadata": {},
     "output_type": "execute_result"
    }
   ],
   "source": [
    "#범주형 데이터로 만들기\n",
    "df['Pregnancies_high']=df['Pregnancies']>6\n",
    "df[['Pregnancies','Pregnancies_high']].head()"
   ]
  },
  {
   "cell_type": "code",
   "execution_count": 17,
   "metadata": {},
   "outputs": [
    {
     "data": {
      "text/plain": [
       "<matplotlib.axes._subplots.AxesSubplot at 0x15322bb22c8>"
      ]
     },
     "execution_count": 17,
     "metadata": {},
     "output_type": "execute_result"
    },
    {
     "data": {
      "image/png": "[encoded data removed]",
      "text/plain": [
       "<Figure size 432x288 with 1 Axes>"
      ]
     },
     "metadata": {
      "needs_background": "light"
     },
     "output_type": "display_data"
    }
   ],
   "source": [
    "sns.countplot(data=df,x='Pregnancies_high',hue='Outcome')"
   ]
  },
  {
   "cell_type": "code",
   "execution_count": 18,
   "metadata": {},
   "outputs": [
    {
     "data": {
      "text/plain": [
       "<matplotlib.axes._subplots.AxesSubplot at 0x15322666408>"
      ]
     },
     "execution_count": 18,
     "metadata": {},
     "output_type": "execute_result"
    },
    {
     "data": {
      "image/png": "[encoded data removed]",
      "text/plain": [
       "<Figure size 432x288 with 1 Axes>"
      ]
     },
     "metadata": {
      "needs_background": "light"
     },
     "output_type": "display_data"
    }
   ],
   "source": [
    "sns.barplot(data=df,x='Outcome',y='BMI')"
   ]
  },
  {
   "cell_type": "code",
   "execution_count": 19,
   "metadata": {},
   "outputs": [
    {
     "data": {
      "text/plain": [
       "<matplotlib.axes._subplots.AxesSubplot at 0x15322660188>"
      ]
     },
     "execution_count": 19,
     "metadata": {},
     "output_type": "execute_result"
    },
    {
     "data": {
      "image/png": "[encoded data removed]",
      "text/plain": [
       "<Figure size 432x288 with 1 Axes>"
      ]
     },
     "metadata": {
      "needs_background": "light"
     },
     "output_type": "display_data"
    }
   ],
   "source": [
    "sns.barplot(data=df,x='Outcome',y='Glucose')"
   ]
  },
  {
   "cell_type": "code",
   "execution_count": 20,
   "metadata": {},
   "outputs": [
    {
     "data": {
      "text/plain": [
       "<matplotlib.axes._subplots.AxesSubplot at 0x1531eb0cb08>"
      ]
     },
     "execution_count": 20,
     "metadata": {},
     "output_type": "execute_result"
    },
    {
     "data": {
      "image/png": "[encoded data removed]",
      "text/plain": [
       "<Figure size 432x288 with 1 Axes>"
      ]
     },
     "metadata": {
      "needs_background": "light"
     },
     "output_type": "display_data"
    }
   ],
   "source": [
    "sns.barplot(data=df,x='Pregnancies',y='Insulin',hue='Outcome')"
   ]
  },
  {
   "cell_type": "code",
   "execution_count": 21,
   "metadata": {},
   "outputs": [
    {
     "data": {
      "text/html": [
       "<div>\n",
       "<style scoped>\n",
       "    .dataframe tbody tr th:only-of-type {\n",
       "        vertical-align: middle;\n",
       "    }\n",
       "\n",
       "    .dataframe tbody tr th {\n",
       "        vertical-align: top;\n",
       "    }\n",
       "\n",
       "    .dataframe thead th {\n",
       "        text-align: right;\n",
       "    }\n",
       "</style>\n",
       "<table border=\"1\" class=\"dataframe\">\n",
       "  <thead>\n",
       "    <tr style=\"text-align: right;\">\n",
       "      <th></th>\n",
       "      <th>Pregnancies</th>\n",
       "      <th>Glucose</th>\n",
       "      <th>BloodPressure</th>\n",
       "      <th>SkinThickness</th>\n",
       "      <th>Insulin</th>\n",
       "      <th>BMI</th>\n",
       "      <th>DiabetesPedigreeFunction</th>\n",
       "      <th>Age</th>\n",
       "      <th>Outcome</th>\n",
       "      <th>Pregnancies_high</th>\n",
       "    </tr>\n",
       "  </thead>\n",
       "  <tbody>\n",
       "    <tr>\n",
       "      <th>1</th>\n",
       "      <td>1</td>\n",
       "      <td>85</td>\n",
       "      <td>66</td>\n",
       "      <td>29</td>\n",
       "      <td>0</td>\n",
       "      <td>26.6</td>\n",
       "      <td>0.351</td>\n",
       "      <td>31</td>\n",
       "      <td>0</td>\n",
       "      <td>False</td>\n",
       "    </tr>\n",
       "    <tr>\n",
       "      <th>3</th>\n",
       "      <td>1</td>\n",
       "      <td>89</td>\n",
       "      <td>66</td>\n",
       "      <td>23</td>\n",
       "      <td>94</td>\n",
       "      <td>28.1</td>\n",
       "      <td>0.167</td>\n",
       "      <td>21</td>\n",
       "      <td>0</td>\n",
       "      <td>False</td>\n",
       "    </tr>\n",
       "    <tr>\n",
       "      <th>5</th>\n",
       "      <td>5</td>\n",
       "      <td>116</td>\n",
       "      <td>74</td>\n",
       "      <td>0</td>\n",
       "      <td>0</td>\n",
       "      <td>25.6</td>\n",
       "      <td>0.201</td>\n",
       "      <td>30</td>\n",
       "      <td>0</td>\n",
       "      <td>False</td>\n",
       "    </tr>\n",
       "    <tr>\n",
       "      <th>7</th>\n",
       "      <td>10</td>\n",
       "      <td>115</td>\n",
       "      <td>0</td>\n",
       "      <td>0</td>\n",
       "      <td>0</td>\n",
       "      <td>35.3</td>\n",
       "      <td>0.134</td>\n",
       "      <td>29</td>\n",
       "      <td>0</td>\n",
       "      <td>True</td>\n",
       "    </tr>\n",
       "    <tr>\n",
       "      <th>10</th>\n",
       "      <td>4</td>\n",
       "      <td>110</td>\n",
       "      <td>92</td>\n",
       "      <td>0</td>\n",
       "      <td>0</td>\n",
       "      <td>37.6</td>\n",
       "      <td>0.191</td>\n",
       "      <td>30</td>\n",
       "      <td>0</td>\n",
       "      <td>False</td>\n",
       "    </tr>\n",
       "    <tr>\n",
       "      <th>...</th>\n",
       "      <td>...</td>\n",
       "      <td>...</td>\n",
       "      <td>...</td>\n",
       "      <td>...</td>\n",
       "      <td>...</td>\n",
       "      <td>...</td>\n",
       "      <td>...</td>\n",
       "      <td>...</td>\n",
       "      <td>...</td>\n",
       "      <td>...</td>\n",
       "    </tr>\n",
       "    <tr>\n",
       "      <th>762</th>\n",
       "      <td>9</td>\n",
       "      <td>89</td>\n",
       "      <td>62</td>\n",
       "      <td>0</td>\n",
       "      <td>0</td>\n",
       "      <td>22.5</td>\n",
       "      <td>0.142</td>\n",
       "      <td>33</td>\n",
       "      <td>0</td>\n",
       "      <td>True</td>\n",
       "    </tr>\n",
       "    <tr>\n",
       "      <th>763</th>\n",
       "      <td>10</td>\n",
       "      <td>101</td>\n",
       "      <td>76</td>\n",
       "      <td>48</td>\n",
       "      <td>180</td>\n",
       "      <td>32.9</td>\n",
       "      <td>0.171</td>\n",
       "      <td>63</td>\n",
       "      <td>0</td>\n",
       "      <td>True</td>\n",
       "    </tr>\n",
       "    <tr>\n",
       "      <th>764</th>\n",
       "      <td>2</td>\n",
       "      <td>122</td>\n",
       "      <td>70</td>\n",
       "      <td>27</td>\n",
       "      <td>0</td>\n",
       "      <td>36.8</td>\n",
       "      <td>0.340</td>\n",
       "      <td>27</td>\n",
       "      <td>0</td>\n",
       "      <td>False</td>\n",
       "    </tr>\n",
       "    <tr>\n",
       "      <th>765</th>\n",
       "      <td>5</td>\n",
       "      <td>121</td>\n",
       "      <td>72</td>\n",
       "      <td>23</td>\n",
       "      <td>112</td>\n",
       "      <td>26.2</td>\n",
       "      <td>0.245</td>\n",
       "      <td>30</td>\n",
       "      <td>0</td>\n",
       "      <td>False</td>\n",
       "    </tr>\n",
       "    <tr>\n",
       "      <th>767</th>\n",
       "      <td>1</td>\n",
       "      <td>93</td>\n",
       "      <td>70</td>\n",
       "      <td>31</td>\n",
       "      <td>0</td>\n",
       "      <td>30.4</td>\n",
       "      <td>0.315</td>\n",
       "      <td>23</td>\n",
       "      <td>0</td>\n",
       "      <td>False</td>\n",
       "    </tr>\n",
       "  </tbody>\n",
       "</table>\n",
       "<p>500 rows × 10 columns</p>\n",
       "</div>"
      ],
      "text/plain": [
       "     Pregnancies  Glucose  BloodPressure  SkinThickness  Insulin   BMI  \\\n",
       "1              1       85             66             29        0  26.6   \n",
       "3              1       89             66             23       94  28.1   \n",
       "5              5      116             74              0        0  25.6   \n",
       "7             10      115              0              0        0  35.3   \n",
       "10             4      110             92              0        0  37.6   \n",
       "..           ...      ...            ...            ...      ...   ...   \n",
       "762            9       89             62              0        0  22.5   \n",
       "763           10      101             76             48      180  32.9   \n",
       "764            2      122             70             27        0  36.8   \n",
       "765            5      121             72             23      112  26.2   \n",
       "767            1       93             70             31        0  30.4   \n",
       "\n",
       "     DiabetesPedigreeFunction  Age  Outcome  Pregnancies_high  \n",
       "1                       0.351   31        0             False  \n",
       "3                       0.167   21        0             False  \n",
       "5                       0.201   30        0             False  \n",
       "7                       0.134   29        0              True  \n",
       "10                      0.191   30        0             False  \n",
       "..                        ...  ...      ...               ...  \n",
       "762                     0.142   33        0              True  \n",
       "763                     0.171   63        0              True  \n",
       "764                     0.340   27        0             False  \n",
       "765                     0.245   30        0             False  \n",
       "767                     0.315   23        0             False  \n",
       "\n",
       "[500 rows x 10 columns]"
      ]
     },
     "execution_count": 21,
     "metadata": {},
     "output_type": "execute_result"
    }
   ],
   "source": [
    "df_0=df[df['Outcome']==0]\n",
    "df_0"
   ]
  },
  {
   "cell_type": "code",
   "execution_count": 22,
   "metadata": {},
   "outputs": [],
   "source": [
    "#여러 plot들을 알려주시지만 솔직히 이런거는 쓸때나 기억나고 신기하기만하고 별거 없으니 패스"
   ]
  },
  {
   "cell_type": "code",
   "execution_count": 23,
   "metadata": {},
   "outputs": [
    {
     "data": {
      "text/html": [
       "<div>\n",
       "<style scoped>\n",
       "    .dataframe tbody tr th:only-of-type {\n",
       "        vertical-align: middle;\n",
       "    }\n",
       "\n",
       "    .dataframe tbody tr th {\n",
       "        vertical-align: top;\n",
       "    }\n",
       "\n",
       "    .dataframe thead th {\n",
       "        text-align: right;\n",
       "    }\n",
       "</style>\n",
       "<table border=\"1\" class=\"dataframe\">\n",
       "  <thead>\n",
       "    <tr style=\"text-align: right;\">\n",
       "      <th></th>\n",
       "      <th>Pregnancies</th>\n",
       "      <th>Glucose</th>\n",
       "      <th>BloodPressure</th>\n",
       "      <th>SkinThickness</th>\n",
       "      <th>Insulin</th>\n",
       "      <th>BMI</th>\n",
       "      <th>DiabetesPedigreeFunction</th>\n",
       "      <th>Age</th>\n",
       "      <th>Outcome</th>\n",
       "    </tr>\n",
       "  </thead>\n",
       "  <tbody>\n",
       "    <tr>\n",
       "      <th>0</th>\n",
       "      <td>6.0</td>\n",
       "      <td>148.0</td>\n",
       "      <td>72.0</td>\n",
       "      <td>35.0</td>\n",
       "      <td>NaN</td>\n",
       "      <td>33.6</td>\n",
       "      <td>0.627</td>\n",
       "      <td>50</td>\n",
       "      <td>1</td>\n",
       "    </tr>\n",
       "    <tr>\n",
       "      <th>1</th>\n",
       "      <td>1.0</td>\n",
       "      <td>85.0</td>\n",
       "      <td>66.0</td>\n",
       "      <td>29.0</td>\n",
       "      <td>NaN</td>\n",
       "      <td>26.6</td>\n",
       "      <td>0.351</td>\n",
       "      <td>31</td>\n",
       "      <td>0</td>\n",
       "    </tr>\n",
       "    <tr>\n",
       "      <th>2</th>\n",
       "      <td>8.0</td>\n",
       "      <td>183.0</td>\n",
       "      <td>64.0</td>\n",
       "      <td>NaN</td>\n",
       "      <td>NaN</td>\n",
       "      <td>23.3</td>\n",
       "      <td>0.672</td>\n",
       "      <td>32</td>\n",
       "      <td>1</td>\n",
       "    </tr>\n",
       "    <tr>\n",
       "      <th>3</th>\n",
       "      <td>1.0</td>\n",
       "      <td>89.0</td>\n",
       "      <td>66.0</td>\n",
       "      <td>23.0</td>\n",
       "      <td>94.0</td>\n",
       "      <td>28.1</td>\n",
       "      <td>0.167</td>\n",
       "      <td>21</td>\n",
       "      <td>0</td>\n",
       "    </tr>\n",
       "    <tr>\n",
       "      <th>4</th>\n",
       "      <td>NaN</td>\n",
       "      <td>137.0</td>\n",
       "      <td>40.0</td>\n",
       "      <td>35.0</td>\n",
       "      <td>168.0</td>\n",
       "      <td>43.1</td>\n",
       "      <td>2.288</td>\n",
       "      <td>33</td>\n",
       "      <td>1</td>\n",
       "    </tr>\n",
       "    <tr>\n",
       "      <th>...</th>\n",
       "      <td>...</td>\n",
       "      <td>...</td>\n",
       "      <td>...</td>\n",
       "      <td>...</td>\n",
       "      <td>...</td>\n",
       "      <td>...</td>\n",
       "      <td>...</td>\n",
       "      <td>...</td>\n",
       "      <td>...</td>\n",
       "    </tr>\n",
       "    <tr>\n",
       "      <th>763</th>\n",
       "      <td>10.0</td>\n",
       "      <td>101.0</td>\n",
       "      <td>76.0</td>\n",
       "      <td>48.0</td>\n",
       "      <td>180.0</td>\n",
       "      <td>32.9</td>\n",
       "      <td>0.171</td>\n",
       "      <td>63</td>\n",
       "      <td>0</td>\n",
       "    </tr>\n",
       "    <tr>\n",
       "      <th>764</th>\n",
       "      <td>2.0</td>\n",
       "      <td>122.0</td>\n",
       "      <td>70.0</td>\n",
       "      <td>27.0</td>\n",
       "      <td>NaN</td>\n",
       "      <td>36.8</td>\n",
       "      <td>0.340</td>\n",
       "      <td>27</td>\n",
       "      <td>0</td>\n",
       "    </tr>\n",
       "    <tr>\n",
       "      <th>765</th>\n",
       "      <td>5.0</td>\n",
       "      <td>121.0</td>\n",
       "      <td>72.0</td>\n",
       "      <td>23.0</td>\n",
       "      <td>112.0</td>\n",
       "      <td>26.2</td>\n",
       "      <td>0.245</td>\n",
       "      <td>30</td>\n",
       "      <td>0</td>\n",
       "    </tr>\n",
       "    <tr>\n",
       "      <th>766</th>\n",
       "      <td>1.0</td>\n",
       "      <td>126.0</td>\n",
       "      <td>60.0</td>\n",
       "      <td>NaN</td>\n",
       "      <td>NaN</td>\n",
       "      <td>30.1</td>\n",
       "      <td>0.349</td>\n",
       "      <td>47</td>\n",
       "      <td>1</td>\n",
       "    </tr>\n",
       "    <tr>\n",
       "      <th>767</th>\n",
       "      <td>1.0</td>\n",
       "      <td>93.0</td>\n",
       "      <td>70.0</td>\n",
       "      <td>31.0</td>\n",
       "      <td>NaN</td>\n",
       "      <td>30.4</td>\n",
       "      <td>0.315</td>\n",
       "      <td>23</td>\n",
       "      <td>0</td>\n",
       "    </tr>\n",
       "  </tbody>\n",
       "</table>\n",
       "<p>768 rows × 9 columns</p>\n",
       "</div>"
      ],
      "text/plain": [
       "     Pregnancies  Glucose  BloodPressure  SkinThickness  Insulin   BMI  \\\n",
       "0            6.0    148.0           72.0           35.0      NaN  33.6   \n",
       "1            1.0     85.0           66.0           29.0      NaN  26.6   \n",
       "2            8.0    183.0           64.0            NaN      NaN  23.3   \n",
       "3            1.0     89.0           66.0           23.0     94.0  28.1   \n",
       "4            NaN    137.0           40.0           35.0    168.0  43.1   \n",
       "..           ...      ...            ...            ...      ...   ...   \n",
       "763         10.0    101.0           76.0           48.0    180.0  32.9   \n",
       "764          2.0    122.0           70.0           27.0      NaN  36.8   \n",
       "765          5.0    121.0           72.0           23.0    112.0  26.2   \n",
       "766          1.0    126.0           60.0            NaN      NaN  30.1   \n",
       "767          1.0     93.0           70.0           31.0      NaN  30.4   \n",
       "\n",
       "     DiabetesPedigreeFunction  Age  Outcome  \n",
       "0                       0.627   50        1  \n",
       "1                       0.351   31        0  \n",
       "2                       0.672   32        1  \n",
       "3                       0.167   21        0  \n",
       "4                       2.288   33        1  \n",
       "..                        ...  ...      ...  \n",
       "763                     0.171   63        0  \n",
       "764                     0.340   27        0  \n",
       "765                     0.245   30        0  \n",
       "766                     0.349   47        1  \n",
       "767                     0.315   23        0  \n",
       "\n",
       "[768 rows x 9 columns]"
      ]
     },
     "execution_count": 23,
     "metadata": {},
     "output_type": "execute_result"
    }
   ],
   "source": [
    "df_matrix=df.iloc[:,:-2].replace(0,np.nan)\n",
    "df_matrix['Outcome']=df['Outcome']\n",
    "df_matrix"
   ]
  },
  {
   "cell_type": "code",
   "execution_count": 24,
   "metadata": {},
   "outputs": [
    {
     "data": {
      "text/html": [
       "<style  type=\"text/css\" >\n",
       "    #T_2ab3d2c2_997a_11ea_aaa3_98838986d818row0_col0 {\n",
       "            background-color:  #023858;\n",
       "            color:  #f1f1f1;\n",
       "        }    #T_2ab3d2c2_997a_11ea_aaa3_98838986d818row0_col1 {\n",
       "            background-color:  #faf3f9;\n",
       "            color:  #000000;\n",
       "        }    #T_2ab3d2c2_997a_11ea_aaa3_98838986d818row0_col2 {\n",
       "            background-color:  #c4cbe3;\n",
       "            color:  #000000;\n",
       "        }    #T_2ab3d2c2_997a_11ea_aaa3_98838986d818row0_col3 {\n",
       "            background-color:  #f6eff7;\n",
       "            color:  #000000;\n",
       "        }    #T_2ab3d2c2_997a_11ea_aaa3_98838986d818row0_col4 {\n",
       "            background-color:  #fef6fb;\n",
       "            color:  #000000;\n",
       "        }    #T_2ab3d2c2_997a_11ea_aaa3_98838986d818row0_col5 {\n",
       "            background-color:  #f0eaf4;\n",
       "            color:  #000000;\n",
       "        }    #T_2ab3d2c2_997a_11ea_aaa3_98838986d818row0_col6 {\n",
       "            background-color:  #fff7fb;\n",
       "            color:  #000000;\n",
       "        }    #T_2ab3d2c2_997a_11ea_aaa3_98838986d818row0_col7 {\n",
       "            background-color:  #62a2cb;\n",
       "            color:  #000000;\n",
       "        }    #T_2ab3d2c2_997a_11ea_aaa3_98838986d818row0_col8 {\n",
       "            background-color:  #ede8f3;\n",
       "            color:  #000000;\n",
       "        }    #T_2ab3d2c2_997a_11ea_aaa3_98838986d818row1_col0 {\n",
       "            background-color:  #e2dfee;\n",
       "            color:  #000000;\n",
       "        }    #T_2ab3d2c2_997a_11ea_aaa3_98838986d818row1_col1 {\n",
       "            background-color:  #023858;\n",
       "            color:  #f1f1f1;\n",
       "        }    #T_2ab3d2c2_997a_11ea_aaa3_98838986d818row1_col2 {\n",
       "            background-color:  #d6d6e9;\n",
       "            color:  #000000;\n",
       "        }    #T_2ab3d2c2_997a_11ea_aaa3_98838986d818row1_col3 {\n",
       "            background-color:  #ece7f2;\n",
       "            color:  #000000;\n",
       "        }    #T_2ab3d2c2_997a_11ea_aaa3_98838986d818row1_col4 {\n",
       "            background-color:  #62a2cb;\n",
       "            color:  #000000;\n",
       "        }    #T_2ab3d2c2_997a_11ea_aaa3_98838986d818row1_col5 {\n",
       "            background-color:  #d9d8ea;\n",
       "            color:  #000000;\n",
       "        }    #T_2ab3d2c2_997a_11ea_aaa3_98838986d818row1_col6 {\n",
       "            background-color:  #e8e4f0;\n",
       "            color:  #000000;\n",
       "        }    #T_2ab3d2c2_997a_11ea_aaa3_98838986d818row1_col7 {\n",
       "            background-color:  #d1d2e6;\n",
       "            color:  #000000;\n",
       "        }    #T_2ab3d2c2_997a_11ea_aaa3_98838986d818row1_col8 {\n",
       "            background-color:  #9fbad9;\n",
       "            color:  #000000;\n",
       "        }    #T_2ab3d2c2_997a_11ea_aaa3_98838986d818row2_col0 {\n",
       "            background-color:  #c2cbe2;\n",
       "            color:  #000000;\n",
       "        }    #T_2ab3d2c2_997a_11ea_aaa3_98838986d818row2_col1 {\n",
       "            background-color:  #f0eaf4;\n",
       "            color:  #000000;\n",
       "        }    #T_2ab3d2c2_997a_11ea_aaa3_98838986d818row2_col2 {\n",
       "            background-color:  #023858;\n",
       "            color:  #f1f1f1;\n",
       "        }    #T_2ab3d2c2_997a_11ea_aaa3_98838986d818row2_col3 {\n",
       "            background-color:  #ece7f2;\n",
       "            color:  #000000;\n",
       "        }    #T_2ab3d2c2_997a_11ea_aaa3_98838986d818row2_col4 {\n",
       "            background-color:  #fff7fb;\n",
       "            color:  #000000;\n",
       "        }    #T_2ab3d2c2_997a_11ea_aaa3_98838986d818row2_col5 {\n",
       "            background-color:  #c9cee4;\n",
       "            color:  #000000;\n",
       "        }    #T_2ab3d2c2_997a_11ea_aaa3_98838986d818row2_col6 {\n",
       "            background-color:  #fff7fb;\n",
       "            color:  #000000;\n",
       "        }    #T_2ab3d2c2_997a_11ea_aaa3_98838986d818row2_col7 {\n",
       "            background-color:  #bcc7e1;\n",
       "            color:  #000000;\n",
       "        }    #T_2ab3d2c2_997a_11ea_aaa3_98838986d818row2_col8 {\n",
       "            background-color:  #fff7fb;\n",
       "            color:  #000000;\n",
       "        }    #T_2ab3d2c2_997a_11ea_aaa3_98838986d818row3_col0 {\n",
       "            background-color:  #e1dfed;\n",
       "            color:  #000000;\n",
       "        }    #T_2ab3d2c2_997a_11ea_aaa3_98838986d818row3_col1 {\n",
       "            background-color:  #f0eaf4;\n",
       "            color:  #000000;\n",
       "        }    #T_2ab3d2c2_997a_11ea_aaa3_98838986d818row3_col2 {\n",
       "            background-color:  #d5d5e8;\n",
       "            color:  #000000;\n",
       "        }    #T_2ab3d2c2_997a_11ea_aaa3_98838986d818row3_col3 {\n",
       "            background-color:  #023858;\n",
       "            color:  #f1f1f1;\n",
       "        }    #T_2ab3d2c2_997a_11ea_aaa3_98838986d818row3_col4 {\n",
       "            background-color:  #f1ebf4;\n",
       "            color:  #000000;\n",
       "        }    #T_2ab3d2c2_997a_11ea_aaa3_98838986d818row3_col5 {\n",
       "            background-color:  #308cbe;\n",
       "            color:  #000000;\n",
       "        }    #T_2ab3d2c2_997a_11ea_aaa3_98838986d818row3_col6 {\n",
       "            background-color:  #ede8f3;\n",
       "            color:  #000000;\n",
       "        }    #T_2ab3d2c2_997a_11ea_aaa3_98838986d818row3_col7 {\n",
       "            background-color:  #e7e3f0;\n",
       "            color:  #000000;\n",
       "        }    #T_2ab3d2c2_997a_11ea_aaa3_98838986d818row3_col8 {\n",
       "            background-color:  #efe9f3;\n",
       "            color:  #000000;\n",
       "        }    #T_2ab3d2c2_997a_11ea_aaa3_98838986d818row4_col0 {\n",
       "            background-color:  #eee9f3;\n",
       "            color:  #000000;\n",
       "        }    #T_2ab3d2c2_997a_11ea_aaa3_98838986d818row4_col1 {\n",
       "            background-color:  #6da6cd;\n",
       "            color:  #000000;\n",
       "        }    #T_2ab3d2c2_997a_11ea_aaa3_98838986d818row4_col2 {\n",
       "            background-color:  #f0eaf4;\n",
       "            color:  #000000;\n",
       "        }    #T_2ab3d2c2_997a_11ea_aaa3_98838986d818row4_col3 {\n",
       "            background-color:  #f3edf5;\n",
       "            color:  #000000;\n",
       "        }    #T_2ab3d2c2_997a_11ea_aaa3_98838986d818row4_col4 {\n",
       "            background-color:  #023858;\n",
       "            color:  #f1f1f1;\n",
       "        }    #T_2ab3d2c2_997a_11ea_aaa3_98838986d818row4_col5 {\n",
       "            background-color:  #d9d8ea;\n",
       "            color:  #000000;\n",
       "        }    #T_2ab3d2c2_997a_11ea_aaa3_98838986d818row4_col6 {\n",
       "            background-color:  #eae6f1;\n",
       "            color:  #000000;\n",
       "        }    #T_2ab3d2c2_997a_11ea_aaa3_98838986d818row4_col7 {\n",
       "            background-color:  #dbdaeb;\n",
       "            color:  #000000;\n",
       "        }    #T_2ab3d2c2_997a_11ea_aaa3_98838986d818row4_col8 {\n",
       "            background-color:  #e4e1ef;\n",
       "            color:  #000000;\n",
       "        }    #T_2ab3d2c2_997a_11ea_aaa3_98838986d818row5_col0 {\n",
       "            background-color:  #eae6f1;\n",
       "            color:  #000000;\n",
       "        }    #T_2ab3d2c2_997a_11ea_aaa3_98838986d818row5_col1 {\n",
       "            background-color:  #eee9f3;\n",
       "            color:  #000000;\n",
       "        }    #T_2ab3d2c2_997a_11ea_aaa3_98838986d818row5_col2 {\n",
       "            background-color:  #c2cbe2;\n",
       "            color:  #000000;\n",
       "        }    #T_2ab3d2c2_997a_11ea_aaa3_98838986d818row5_col3 {\n",
       "            background-color:  #4094c3;\n",
       "            color:  #000000;\n",
       "        }    #T_2ab3d2c2_997a_11ea_aaa3_98838986d818row5_col4 {\n",
       "            background-color:  #e8e4f0;\n",
       "            color:  #000000;\n",
       "        }    #T_2ab3d2c2_997a_11ea_aaa3_98838986d818row5_col5 {\n",
       "            background-color:  #023858;\n",
       "            color:  #f1f1f1;\n",
       "        }    #T_2ab3d2c2_997a_11ea_aaa3_98838986d818row5_col6 {\n",
       "            background-color:  #e4e1ef;\n",
       "            color:  #000000;\n",
       "        }    #T_2ab3d2c2_997a_11ea_aaa3_98838986d818row5_col7 {\n",
       "            background-color:  #fff7fb;\n",
       "            color:  #000000;\n",
       "        }    #T_2ab3d2c2_997a_11ea_aaa3_98838986d818row5_col8 {\n",
       "            background-color:  #e1dfed;\n",
       "            color:  #000000;\n",
       "        }    #T_2ab3d2c2_997a_11ea_aaa3_98838986d818row6_col0 {\n",
       "            background-color:  #fff7fb;\n",
       "            color:  #000000;\n",
       "        }    #T_2ab3d2c2_997a_11ea_aaa3_98838986d818row6_col1 {\n",
       "            background-color:  #fff7fb;\n",
       "            color:  #000000;\n",
       "        }    #T_2ab3d2c2_997a_11ea_aaa3_98838986d818row6_col2 {\n",
       "            background-color:  #fff7fb;\n",
       "            color:  #000000;\n",
       "        }    #T_2ab3d2c2_997a_11ea_aaa3_98838986d818row6_col3 {\n",
       "            background-color:  #fff7fb;\n",
       "            color:  #000000;\n",
       "        }    #T_2ab3d2c2_997a_11ea_aaa3_98838986d818row6_col4 {\n",
       "            background-color:  #faf2f8;\n",
       "            color:  #000000;\n",
       "        }    #T_2ab3d2c2_997a_11ea_aaa3_98838986d818row6_col5 {\n",
       "            background-color:  #eae6f1;\n",
       "            color:  #000000;\n",
       "        }    #T_2ab3d2c2_997a_11ea_aaa3_98838986d818row6_col6 {\n",
       "            background-color:  #023858;\n",
       "            color:  #f1f1f1;\n",
       "        }    #T_2ab3d2c2_997a_11ea_aaa3_98838986d818row6_col7 {\n",
       "            background-color:  #fef6fa;\n",
       "            color:  #000000;\n",
       "        }    #T_2ab3d2c2_997a_11ea_aaa3_98838986d818row6_col8 {\n",
       "            background-color:  #fef6fb;\n",
       "            color:  #000000;\n",
       "        }    #T_2ab3d2c2_997a_11ea_aaa3_98838986d818row7_col0 {\n",
       "            background-color:  #5a9ec9;\n",
       "            color:  #000000;\n",
       "        }    #T_2ab3d2c2_997a_11ea_aaa3_98838986d818row7_col1 {\n",
       "            background-color:  #e7e3f0;\n",
       "            color:  #000000;\n",
       "        }    #T_2ab3d2c2_997a_11ea_aaa3_98838986d818row7_col2 {\n",
       "            background-color:  #b5c4df;\n",
       "            color:  #000000;\n",
       "        }    #T_2ab3d2c2_997a_11ea_aaa3_98838986d818row7_col3 {\n",
       "            background-color:  #f7f0f7;\n",
       "            color:  #000000;\n",
       "        }    #T_2ab3d2c2_997a_11ea_aaa3_98838986d818row7_col4 {\n",
       "            background-color:  #eae6f1;\n",
       "            color:  #000000;\n",
       "        }    #T_2ab3d2c2_997a_11ea_aaa3_98838986d818row7_col5 {\n",
       "            background-color:  #fff7fb;\n",
       "            color:  #000000;\n",
       "        }    #T_2ab3d2c2_997a_11ea_aaa3_98838986d818row7_col6 {\n",
       "            background-color:  #f9f2f8;\n",
       "            color:  #000000;\n",
       "        }    #T_2ab3d2c2_997a_11ea_aaa3_98838986d818row7_col7 {\n",
       "            background-color:  #023858;\n",
       "            color:  #f1f1f1;\n",
       "        }    #T_2ab3d2c2_997a_11ea_aaa3_98838986d818row7_col8 {\n",
       "            background-color:  #f3edf5;\n",
       "            color:  #000000;\n",
       "        }    #T_2ab3d2c2_997a_11ea_aaa3_98838986d818row8_col0 {\n",
       "            background-color:  #c9cee4;\n",
       "            color:  #000000;\n",
       "        }    #T_2ab3d2c2_997a_11ea_aaa3_98838986d818row8_col1 {\n",
       "            background-color:  #96b6d7;\n",
       "            color:  #000000;\n",
       "        }    #T_2ab3d2c2_997a_11ea_aaa3_98838986d818row8_col2 {\n",
       "            background-color:  #e1dfed;\n",
       "            color:  #000000;\n",
       "        }    #T_2ab3d2c2_997a_11ea_aaa3_98838986d818row8_col3 {\n",
       "            background-color:  #e4e1ef;\n",
       "            color:  #000000;\n",
       "        }    #T_2ab3d2c2_997a_11ea_aaa3_98838986d818row8_col4 {\n",
       "            background-color:  #d5d5e8;\n",
       "            color:  #000000;\n",
       "        }    #T_2ab3d2c2_997a_11ea_aaa3_98838986d818row8_col5 {\n",
       "            background-color:  #c1cae2;\n",
       "            color:  #000000;\n",
       "        }    #T_2ab3d2c2_997a_11ea_aaa3_98838986d818row8_col6 {\n",
       "            background-color:  #e0deed;\n",
       "            color:  #000000;\n",
       "        }    #T_2ab3d2c2_997a_11ea_aaa3_98838986d818row8_col7 {\n",
       "            background-color:  #d8d7e9;\n",
       "            color:  #000000;\n",
       "        }    #T_2ab3d2c2_997a_11ea_aaa3_98838986d818row8_col8 {\n",
       "            background-color:  #023858;\n",
       "            color:  #f1f1f1;\n",
       "        }</style><table id=\"T_2ab3d2c2_997a_11ea_aaa3_98838986d818\" ><thead>    <tr>        <th class=\"blank level0\" ></th>        <th class=\"col_heading level0 col0\" >Pregnancies</th>        <th class=\"col_heading level0 col1\" >Glucose</th>        <th class=\"col_heading level0 col2\" >BloodPressure</th>        <th class=\"col_heading level0 col3\" >SkinThickness</th>        <th class=\"col_heading level0 col4\" >Insulin</th>        <th class=\"col_heading level0 col5\" >BMI</th>        <th class=\"col_heading level0 col6\" >DiabetesPedigreeFunction</th>        <th class=\"col_heading level0 col7\" >Age</th>        <th class=\"col_heading level0 col8\" >Outcome</th>    </tr></thead><tbody>\n",
       "                <tr>\n",
       "                        <th id=\"T_2ab3d2c2_997a_11ea_aaa3_98838986d818level0_row0\" class=\"row_heading level0 row0\" >Pregnancies</th>\n",
       "                        <td id=\"T_2ab3d2c2_997a_11ea_aaa3_98838986d818row0_col0\" class=\"data row0 col0\" >1.000000</td>\n",
       "                        <td id=\"T_2ab3d2c2_997a_11ea_aaa3_98838986d818row0_col1\" class=\"data row0 col1\" >0.166329</td>\n",
       "                        <td id=\"T_2ab3d2c2_997a_11ea_aaa3_98838986d818row0_col2\" class=\"data row0 col2\" >0.285013</td>\n",
       "                        <td id=\"T_2ab3d2c2_997a_11ea_aaa3_98838986d818row0_col3\" class=\"data row0 col3\" >0.167298</td>\n",
       "                        <td id=\"T_2ab3d2c2_997a_11ea_aaa3_98838986d818row0_col4\" class=\"data row0 col4\" >0.104081</td>\n",
       "                        <td id=\"T_2ab3d2c2_997a_11ea_aaa3_98838986d818row0_col5\" class=\"data row0 col5\" >0.128207</td>\n",
       "                        <td id=\"T_2ab3d2c2_997a_11ea_aaa3_98838986d818row0_col6\" class=\"data row0 col6\" >-0.006459</td>\n",
       "                        <td id=\"T_2ab3d2c2_997a_11ea_aaa3_98838986d818row0_col7\" class=\"data row0 col7\" >0.550525</td>\n",
       "                        <td id=\"T_2ab3d2c2_997a_11ea_aaa3_98838986d818row0_col8\" class=\"data row0 col8\" >0.268218</td>\n",
       "            </tr>\n",
       "            <tr>\n",
       "                        <th id=\"T_2ab3d2c2_997a_11ea_aaa3_98838986d818level0_row1\" class=\"row_heading level0 row1\" >Glucose</th>\n",
       "                        <td id=\"T_2ab3d2c2_997a_11ea_aaa3_98838986d818row1_col0\" class=\"data row1 col0\" >0.166329</td>\n",
       "                        <td id=\"T_2ab3d2c2_997a_11ea_aaa3_98838986d818row1_col1\" class=\"data row1 col1\" >1.000000</td>\n",
       "                        <td id=\"T_2ab3d2c2_997a_11ea_aaa3_98838986d818row1_col2\" class=\"data row1 col2\" >0.223192</td>\n",
       "                        <td id=\"T_2ab3d2c2_997a_11ea_aaa3_98838986d818row1_col3\" class=\"data row1 col3\" >0.228043</td>\n",
       "                        <td id=\"T_2ab3d2c2_997a_11ea_aaa3_98838986d818row1_col4\" class=\"data row1 col4\" >0.581186</td>\n",
       "                        <td id=\"T_2ab3d2c2_997a_11ea_aaa3_98838986d818row1_col5\" class=\"data row1 col5\" >0.232771</td>\n",
       "                        <td id=\"T_2ab3d2c2_997a_11ea_aaa3_98838986d818row1_col6\" class=\"data row1 col6\" >0.137246</td>\n",
       "                        <td id=\"T_2ab3d2c2_997a_11ea_aaa3_98838986d818row1_col7\" class=\"data row1 col7\" >0.267136</td>\n",
       "                        <td id=\"T_2ab3d2c2_997a_11ea_aaa3_98838986d818row1_col8\" class=\"data row1 col8\" >0.494650</td>\n",
       "            </tr>\n",
       "            <tr>\n",
       "                        <th id=\"T_2ab3d2c2_997a_11ea_aaa3_98838986d818level0_row2\" class=\"row_heading level0 row2\" >BloodPressure</th>\n",
       "                        <td id=\"T_2ab3d2c2_997a_11ea_aaa3_98838986d818row2_col0\" class=\"data row2 col0\" >0.285013</td>\n",
       "                        <td id=\"T_2ab3d2c2_997a_11ea_aaa3_98838986d818row2_col1\" class=\"data row2 col1\" >0.223192</td>\n",
       "                        <td id=\"T_2ab3d2c2_997a_11ea_aaa3_98838986d818row2_col2\" class=\"data row2 col2\" >1.000000</td>\n",
       "                        <td id=\"T_2ab3d2c2_997a_11ea_aaa3_98838986d818row2_col3\" class=\"data row2 col3\" >0.226839</td>\n",
       "                        <td id=\"T_2ab3d2c2_997a_11ea_aaa3_98838986d818row2_col4\" class=\"data row2 col4\" >0.098272</td>\n",
       "                        <td id=\"T_2ab3d2c2_997a_11ea_aaa3_98838986d818row2_col5\" class=\"data row2 col5\" >0.289230</td>\n",
       "                        <td id=\"T_2ab3d2c2_997a_11ea_aaa3_98838986d818row2_col6\" class=\"data row2 col6\" >-0.002805</td>\n",
       "                        <td id=\"T_2ab3d2c2_997a_11ea_aaa3_98838986d818row2_col7\" class=\"data row2 col7\" >0.330107</td>\n",
       "                        <td id=\"T_2ab3d2c2_997a_11ea_aaa3_98838986d818row2_col8\" class=\"data row2 col8\" >0.170589</td>\n",
       "            </tr>\n",
       "            <tr>\n",
       "                        <th id=\"T_2ab3d2c2_997a_11ea_aaa3_98838986d818level0_row3\" class=\"row_heading level0 row3\" >SkinThickness</th>\n",
       "                        <td id=\"T_2ab3d2c2_997a_11ea_aaa3_98838986d818row3_col0\" class=\"data row3 col0\" >0.167298</td>\n",
       "                        <td id=\"T_2ab3d2c2_997a_11ea_aaa3_98838986d818row3_col1\" class=\"data row3 col1\" >0.228043</td>\n",
       "                        <td id=\"T_2ab3d2c2_997a_11ea_aaa3_98838986d818row3_col2\" class=\"data row3 col2\" >0.226839</td>\n",
       "                        <td id=\"T_2ab3d2c2_997a_11ea_aaa3_98838986d818row3_col3\" class=\"data row3 col3\" >1.000000</td>\n",
       "                        <td id=\"T_2ab3d2c2_997a_11ea_aaa3_98838986d818row3_col4\" class=\"data row3 col4\" >0.184888</td>\n",
       "                        <td id=\"T_2ab3d2c2_997a_11ea_aaa3_98838986d818row3_col5\" class=\"data row3 col5\" >0.648214</td>\n",
       "                        <td id=\"T_2ab3d2c2_997a_11ea_aaa3_98838986d818row3_col6\" class=\"data row3 col6\" >0.115016</td>\n",
       "                        <td id=\"T_2ab3d2c2_997a_11ea_aaa3_98838986d818row3_col7\" class=\"data row3 col7\" >0.166816</td>\n",
       "                        <td id=\"T_2ab3d2c2_997a_11ea_aaa3_98838986d818row3_col8\" class=\"data row3 col8\" >0.259491</td>\n",
       "            </tr>\n",
       "            <tr>\n",
       "                        <th id=\"T_2ab3d2c2_997a_11ea_aaa3_98838986d818level0_row4\" class=\"row_heading level0 row4\" >Insulin</th>\n",
       "                        <td id=\"T_2ab3d2c2_997a_11ea_aaa3_98838986d818row4_col0\" class=\"data row4 col0\" >0.104081</td>\n",
       "                        <td id=\"T_2ab3d2c2_997a_11ea_aaa3_98838986d818row4_col1\" class=\"data row4 col1\" >0.581186</td>\n",
       "                        <td id=\"T_2ab3d2c2_997a_11ea_aaa3_98838986d818row4_col2\" class=\"data row4 col2\" >0.098272</td>\n",
       "                        <td id=\"T_2ab3d2c2_997a_11ea_aaa3_98838986d818row4_col3\" class=\"data row4 col3\" >0.184888</td>\n",
       "                        <td id=\"T_2ab3d2c2_997a_11ea_aaa3_98838986d818row4_col4\" class=\"data row4 col4\" >1.000000</td>\n",
       "                        <td id=\"T_2ab3d2c2_997a_11ea_aaa3_98838986d818row4_col5\" class=\"data row4 col5\" >0.228050</td>\n",
       "                        <td id=\"T_2ab3d2c2_997a_11ea_aaa3_98838986d818row4_col6\" class=\"data row4 col6\" >0.130395</td>\n",
       "                        <td id=\"T_2ab3d2c2_997a_11ea_aaa3_98838986d818row4_col7\" class=\"data row4 col7\" >0.220261</td>\n",
       "                        <td id=\"T_2ab3d2c2_997a_11ea_aaa3_98838986d818row4_col8\" class=\"data row4 col8\" >0.303454</td>\n",
       "            </tr>\n",
       "            <tr>\n",
       "                        <th id=\"T_2ab3d2c2_997a_11ea_aaa3_98838986d818level0_row5\" class=\"row_heading level0 row5\" >BMI</th>\n",
       "                        <td id=\"T_2ab3d2c2_997a_11ea_aaa3_98838986d818row5_col0\" class=\"data row5 col0\" >0.128207</td>\n",
       "                        <td id=\"T_2ab3d2c2_997a_11ea_aaa3_98838986d818row5_col1\" class=\"data row5 col1\" >0.232771</td>\n",
       "                        <td id=\"T_2ab3d2c2_997a_11ea_aaa3_98838986d818row5_col2\" class=\"data row5 col2\" >0.289230</td>\n",
       "                        <td id=\"T_2ab3d2c2_997a_11ea_aaa3_98838986d818row5_col3\" class=\"data row5 col3\" >0.648214</td>\n",
       "                        <td id=\"T_2ab3d2c2_997a_11ea_aaa3_98838986d818row5_col4\" class=\"data row5 col4\" >0.228050</td>\n",
       "                        <td id=\"T_2ab3d2c2_997a_11ea_aaa3_98838986d818row5_col5\" class=\"data row5 col5\" >1.000000</td>\n",
       "                        <td id=\"T_2ab3d2c2_997a_11ea_aaa3_98838986d818row5_col6\" class=\"data row5 col6\" >0.155382</td>\n",
       "                        <td id=\"T_2ab3d2c2_997a_11ea_aaa3_98838986d818row5_col7\" class=\"data row5 col7\" >0.025841</td>\n",
       "                        <td id=\"T_2ab3d2c2_997a_11ea_aaa3_98838986d818row5_col8\" class=\"data row5 col8\" >0.313680</td>\n",
       "            </tr>\n",
       "            <tr>\n",
       "                        <th id=\"T_2ab3d2c2_997a_11ea_aaa3_98838986d818level0_row6\" class=\"row_heading level0 row6\" >DiabetesPedigreeFunction</th>\n",
       "                        <td id=\"T_2ab3d2c2_997a_11ea_aaa3_98838986d818row6_col0\" class=\"data row6 col0\" >-0.006459</td>\n",
       "                        <td id=\"T_2ab3d2c2_997a_11ea_aaa3_98838986d818row6_col1\" class=\"data row6 col1\" >0.137246</td>\n",
       "                        <td id=\"T_2ab3d2c2_997a_11ea_aaa3_98838986d818row6_col2\" class=\"data row6 col2\" >-0.002805</td>\n",
       "                        <td id=\"T_2ab3d2c2_997a_11ea_aaa3_98838986d818row6_col3\" class=\"data row6 col3\" >0.115016</td>\n",
       "                        <td id=\"T_2ab3d2c2_997a_11ea_aaa3_98838986d818row6_col4\" class=\"data row6 col4\" >0.130395</td>\n",
       "                        <td id=\"T_2ab3d2c2_997a_11ea_aaa3_98838986d818row6_col5\" class=\"data row6 col5\" >0.155382</td>\n",
       "                        <td id=\"T_2ab3d2c2_997a_11ea_aaa3_98838986d818row6_col6\" class=\"data row6 col6\" >1.000000</td>\n",
       "                        <td id=\"T_2ab3d2c2_997a_11ea_aaa3_98838986d818row6_col7\" class=\"data row6 col7\" >0.033561</td>\n",
       "                        <td id=\"T_2ab3d2c2_997a_11ea_aaa3_98838986d818row6_col8\" class=\"data row6 col8\" >0.173844</td>\n",
       "            </tr>\n",
       "            <tr>\n",
       "                        <th id=\"T_2ab3d2c2_997a_11ea_aaa3_98838986d818level0_row7\" class=\"row_heading level0 row7\" >Age</th>\n",
       "                        <td id=\"T_2ab3d2c2_997a_11ea_aaa3_98838986d818row7_col0\" class=\"data row7 col0\" >0.550525</td>\n",
       "                        <td id=\"T_2ab3d2c2_997a_11ea_aaa3_98838986d818row7_col1\" class=\"data row7 col1\" >0.267136</td>\n",
       "                        <td id=\"T_2ab3d2c2_997a_11ea_aaa3_98838986d818row7_col2\" class=\"data row7 col2\" >0.330107</td>\n",
       "                        <td id=\"T_2ab3d2c2_997a_11ea_aaa3_98838986d818row7_col3\" class=\"data row7 col3\" >0.166816</td>\n",
       "                        <td id=\"T_2ab3d2c2_997a_11ea_aaa3_98838986d818row7_col4\" class=\"data row7 col4\" >0.220261</td>\n",
       "                        <td id=\"T_2ab3d2c2_997a_11ea_aaa3_98838986d818row7_col5\" class=\"data row7 col5\" >0.025841</td>\n",
       "                        <td id=\"T_2ab3d2c2_997a_11ea_aaa3_98838986d818row7_col6\" class=\"data row7 col6\" >0.033561</td>\n",
       "                        <td id=\"T_2ab3d2c2_997a_11ea_aaa3_98838986d818row7_col7\" class=\"data row7 col7\" >1.000000</td>\n",
       "                        <td id=\"T_2ab3d2c2_997a_11ea_aaa3_98838986d818row7_col8\" class=\"data row7 col8\" >0.238356</td>\n",
       "            </tr>\n",
       "            <tr>\n",
       "                        <th id=\"T_2ab3d2c2_997a_11ea_aaa3_98838986d818level0_row8\" class=\"row_heading level0 row8\" >Outcome</th>\n",
       "                        <td id=\"T_2ab3d2c2_997a_11ea_aaa3_98838986d818row8_col0\" class=\"data row8 col0\" >0.268218</td>\n",
       "                        <td id=\"T_2ab3d2c2_997a_11ea_aaa3_98838986d818row8_col1\" class=\"data row8 col1\" >0.494650</td>\n",
       "                        <td id=\"T_2ab3d2c2_997a_11ea_aaa3_98838986d818row8_col2\" class=\"data row8 col2\" >0.170589</td>\n",
       "                        <td id=\"T_2ab3d2c2_997a_11ea_aaa3_98838986d818row8_col3\" class=\"data row8 col3\" >0.259491</td>\n",
       "                        <td id=\"T_2ab3d2c2_997a_11ea_aaa3_98838986d818row8_col4\" class=\"data row8 col4\" >0.303454</td>\n",
       "                        <td id=\"T_2ab3d2c2_997a_11ea_aaa3_98838986d818row8_col5\" class=\"data row8 col5\" >0.313680</td>\n",
       "                        <td id=\"T_2ab3d2c2_997a_11ea_aaa3_98838986d818row8_col6\" class=\"data row8 col6\" >0.173844</td>\n",
       "                        <td id=\"T_2ab3d2c2_997a_11ea_aaa3_98838986d818row8_col7\" class=\"data row8 col7\" >0.238356</td>\n",
       "                        <td id=\"T_2ab3d2c2_997a_11ea_aaa3_98838986d818row8_col8\" class=\"data row8 col8\" >1.000000</td>\n",
       "            </tr>\n",
       "    </tbody></table>"
      ],
      "text/plain": [
       "<pandas.io.formats.style.Styler at 0x1532291a708>"
      ]
     },
     "execution_count": 24,
     "metadata": {},
     "output_type": "execute_result"
    }
   ],
   "source": [
    "#상관관계 \n",
    "\n",
    "df_corr=df_matrix.corr()\n",
    "df_corr.style.background_gradient()"
   ]
  },
  {
   "cell_type": "code",
   "execution_count": 25,
   "metadata": {
    "scrolled": true
   },
   "outputs": [
    {
     "data": {
      "text/plain": [
       "<matplotlib.axes._subplots.AxesSubplot at 0x153229fd708>"
      ]
     },
     "execution_count": 25,
     "metadata": {},
     "output_type": "execute_result"
    },
    {
     "data": {
      "image/png": "[encoded data removed]",
      "text/plain": [
       "<Figure size 432x288 with 2 Axes>"
      ]
     },
     "metadata": {
      "needs_background": "light"
     },
     "output_type": "display_data"
    }
   ],
   "source": [
    "sns.heatmap(df_corr,vmax=1,vmin=-1,cmap='Blues',annot=True)"
   ]
  },
  {
   "cell_type": "code",
   "execution_count": 26,
   "metadata": {},
   "outputs": [
    {
     "data": {
      "text/plain": [
       "Pregnancies                 0.268218\n",
       "Glucose                     0.494650\n",
       "BloodPressure               0.170589\n",
       "SkinThickness               0.259491\n",
       "Insulin                     0.303454\n",
       "BMI                         0.313680\n",
       "DiabetesPedigreeFunction    0.173844\n",
       "Age                         0.238356\n",
       "Outcome                     1.000000\n",
       "Name: Outcome, dtype: float64"
      ]
     },
     "execution_count": 26,
     "metadata": {},
     "output_type": "execute_result"
    }
   ],
   "source": [
    "df_corr['Outcome']"
   ]
  },
  {
   "cell_type": "code",
   "execution_count": null,
   "metadata": {},
   "outputs": [],
   "source": []
  }
 ],
 "metadata": {
  "kernelspec": {
   "display_name": "Python 3",
   "language": "python",
   "name": "python3"
  },
  "language_info": {
   "codemirror_mode": {
    "name": "ipython",
    "version": 3
   },
   "file_extension": ".py",
   "mimetype": "text/x-python",
   "name": "python",
   "nbconvert_exporter": "python",
   "pygments_lexer": "ipython3",
   "version": "3.7.6"
  },
  "toc": {
   "base_numbering": 1,
   "nav_menu": {},
   "number_sections": true,
   "sideBar": true,
   "skip_h1_title": false,
   "title_cell": "Table of Contents",
   "title_sidebar": "Contents",
   "toc_cell": false,
   "toc_position": {},
   "toc_section_display": true,
   "toc_window_display": false
  },
  "varInspector": {
   "cols": {
    "lenName": 16,
    "lenType": 16,
    "lenVar": 40
   },
   "kernels_config": {
    "python": {
     "delete_cmd_postfix": "",
     "delete_cmd_prefix": "del ",
     "library": "var_list.py",
     "varRefreshCmd": "print(var_dic_list())"
    },
    "r": {
     "delete_cmd_postfix": ") ",
     "delete_cmd_prefix": "rm(",
     "library": "var_list.r",
     "varRefreshCmd": "cat(var_dic_list()) "
    }
   },
   "types_to_exclude": [
    "module",
    "function",
    "builtin_function_or_method",
    "instance",
    "_Feature"
   ],
   "window_display": false
  }
 },
 "nbformat": 4,
 "nbformat_minor": 4
}
