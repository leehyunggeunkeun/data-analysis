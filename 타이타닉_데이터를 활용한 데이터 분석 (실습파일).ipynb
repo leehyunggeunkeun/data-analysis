{
 "cells": [
  {
   "cell_type": "code",
   "execution_count": null,
   "metadata": {},
   "outputs": [],
   "source": [
    "# 데이콘 교육용 유튜브 강의및 코드 설명을 필사 "
   ]
  },
  {
   "cell_type": "markdown",
   "metadata": {
    "colab_type": "text",
    "heading_collapsed": true,
    "id": "0Nj76qUe2lnA"
   },
   "source": [
    "## 타이타닉 데이터를 활용한 데이터 분석"
   ]
  },
  {
   "cell_type": "markdown",
   "metadata": {
    "colab_type": "text",
    "id": "JYHb_Mf-2lnG"
   },
   "source": [
    "## 1. 라이브러리 및 데이터\n",
    "## Library & Data"
   ]
  },
  {
   "cell_type": "code",
   "execution_count": null,
   "metadata": {
    "colab": {},
    "colab_type": "code",
    "id": "pb0OD3v82lnT"
   },
   "outputs": [],
   "source": [
    "import pandas as pd #판다스 패키지 불러오기\n",
    "from sklearn.linear_model import LogisticRegression # 로지스틱 회귀 모델 불러오기\n",
    "from sklearn.tree import DecisionTreeClassifier # 의사결정 나무 모델 불러오기"
   ]
  },
  {
   "cell_type": "markdown",
   "metadata": {
    "colab_type": "text",
    "id": "Ra_sr1UQK0MQ"
   },
   "source": [
    "### pd.read_csv()\n",
    " - csv파일 읽는 함수"
   ]
  },
  {
   "cell_type": "code",
   "execution_count": null,
   "metadata": {
    "colab": {},
    "colab_type": "code",
    "id": "ucB6aeAf6FPT"
   },
   "outputs": [],
   "source": [
    " # 데이터 불러오기\n",
    "# 모델 학습 파일\n",
    "# 모델 시험지 파일\n",
    "#답안지 파일 "
   ]
  },
  {
   "cell_type": "markdown",
   "metadata": {
    "colab_type": "text",
    "id": "jwLtCHGC2lnb"
   },
   "source": [
    "## 2. 탐색적 자료분석\n",
    "## Exploratory Data Analysis (EDA)\n"
   ]
  },
  {
   "cell_type": "markdown",
   "metadata": {
    "colab_type": "text",
    "id": "0M8KM3tg6FPX"
   },
   "source": [
    "### pd.DataFrame.head()\n",
    " - 데이터 프레임의 위에서 부터 n개 행을 보여주는 함수\n",
    " - n의 기본 값(default 값)은 5"
   ]
  },
  {
   "cell_type": "code",
   "execution_count": null,
   "metadata": {
    "colab": {},
    "colab_type": "code",
    "id": "tnr_vwVsWths"
   },
   "outputs": [],
   "source": []
  },
  {
   "cell_type": "markdown",
   "metadata": {
    "colab_type": "text",
    "id": "j6ZGMht9nnDD"
   },
   "source": [
    "- PassengerId : 탑승객의 고유 아이디\n",
    "- Survival : 생존여부(0: 사망, 1: 생존)\n",
    "- Pclass : 등실의 등급(1: 1등급, 2: 2등급, 3: 3등급)\n",
    "- Name : 이름\n",
    "- Sex : 성별\n",
    "- Age : 나이\n",
    "- Sibsp : 함께 탑승한 형제자매, 아내 남편의 수\n",
    "- Parch: 함께 탑승한 부모, 자식의 수\n",
    "- Ticket: 티켓번호\n",
    "- Fare: 티켓의 요금\n",
    "- Cabin: 객실번호\n",
    "- Embarked: 배에 탑승한 위치(C = Cherbourg, Q = Queenstown, S = Southampton)"
   ]
  },
  {
   "cell_type": "markdown",
   "metadata": {
    "colab_type": "text",
    "id": "6gZnuuxI6FPk"
   },
   "source": [
    "### pd.DataFrame.tail()\n",
    " - 데이터 프레임의 아래에서 부터 n개 행을 보여주는 함수\n",
    " - n의 기본 값(default 값)은 5"
   ]
  },
  {
   "cell_type": "code",
   "execution_count": null,
   "metadata": {
    "colab": {},
    "colab_type": "code",
    "id": "JXVbDhivECuQ"
   },
   "outputs": [],
   "source": []
  },
  {
   "cell_type": "markdown",
   "metadata": {
    "colab_type": "text",
    "id": "IuXDOy8l6FPp"
   },
   "source": [
    "### pd.DataFrame.shape\n",
    " - 데이터 프레임의 행의 개수와 열의 개수가 저장되어 있는 속성(attribute)"
   ]
  },
  {
   "cell_type": "code",
   "execution_count": null,
   "metadata": {
    "colab": {},
    "colab_type": "code",
    "id": "XYzqIZFTEEAN"
   },
   "outputs": [],
   "source": []
  },
  {
   "cell_type": "markdown",
   "metadata": {
    "colab_type": "text",
    "id": "pLhBuDW46FPw"
   },
   "source": [
    "### pd.DataFrame.info()\n",
    "- 데이터셋의 column별 정보를 알려주는 함수\n",
    "- 비어 있지 않은 값은 (non-null)은 몇개인지?\n",
    "- column의 type은 무엇인지?\n",
    " - type의 종류 : int(정수), float(실수), object(문자열), 등등 (date, ...)"
   ]
  },
  {
   "cell_type": "code",
   "execution_count": null,
   "metadata": {
    "colab": {},
    "colab_type": "code",
    "id": "8WH4LQF3ua6A"
   },
   "outputs": [],
   "source": []
  },
  {
   "cell_type": "markdown",
   "metadata": {
    "colab_type": "text",
    "id": "Pf07OcNy6FPz"
   },
   "source": [
    "### pd.DataFrame.describe()\n",
    "- 숫자형 (int, float) column들의 기술 통계량을 보여주는 함수\n",
    "\n",
    "- 기술통계량이란?\n",
    " - 해당 column을 대표할 수 있는 통계값들을 의미\n",
    " \n",
    " \n",
    "- 기술통계량 종류\n",
    " - count: 해당 column에서 비어 있지 않은 값의 개수\n",
    " - mean: 평균\n",
    " - std: 표준편차\n",
    " - min: 최솟값 (이상치 포함)\n",
    " - 25% (Q1): 전체 데이터를 순서대로 정렬했을 때, 아래에서 부터 1/4번째 지점에 있는 값\n",
    " - 50% (Q2): 중앙값 (전체 데이터를 순서대로 정렬했을 때, 아래에서 부터 2/4번째 지점에 있는 값)\n",
    " - 75% (Q3): 전체 데이터를 순서대로 정렬했을 때, 아래에서 부터 3/4번째 지점에 있는 값\n",
    " - max: 최댓값 (이상치 포함) \n",
    " \n",
    " \n",
    " \n",
    "- 이상치: 울타리 밖에 있는 부분을 이상치라고 정의함\n",
    "   - 아래쪽 울타리: $Q_1$ - $1.5 * IQR$\n",
    "   - 위쪽 울타리: $Q_3$ + $1.5 * IQR$\n",
    "   - $IQR$ = $Q_3 - Q_1$\n",
    " \n",
    " \n",
    "<img src=\"https://miro.medium.com/max/10125/1*NRlqiZGQdsIyAu0KzP7LaQ.png\" width=\"700\" height=\"700\">"
   ]
  },
  {
   "cell_type": "code",
   "execution_count": null,
   "metadata": {
    "colab": {},
    "colab_type": "code",
    "id": "4OZ8393MvrT6"
   },
   "outputs": [],
   "source": []
  },
  {
   "cell_type": "markdown",
   "metadata": {
    "colab_type": "text",
    "id": "jjLPGtmx6FP4"
   },
   "source": [
    "### pd.Series.value_counts()\n",
    " - series 내 고유값들 각각의 개수를 보여주는 함수\n",
    " - 가장 많이 나오는 고유값들 순서로 보여줍니다.\n",
    " - 비어 있는 값은 고려하지 않습니다."
   ]
  },
  {
   "cell_type": "code",
   "execution_count": null,
   "metadata": {
    "colab": {},
    "colab_type": "code",
    "id": "tP9Md2d77AV9"
   },
   "outputs": [],
   "source": []
  },
  {
   "cell_type": "markdown",
   "metadata": {
    "colab_type": "text",
    "id": "hWxzks6K6FP_"
   },
   "source": [
    "### pd.Series.unique()\n",
    "- 해당 series의 고유값들만 보여주는 함수\n",
    "- [1, 1, 1, 3] 이라는 시리즈가 있다면, unique() 함수 적용시 [1, 3]이 출력됩니다.\n",
    "- nan 값이 있을시 nan값도 포함하여 출력한다 (Not a Number)\n",
    "- 출현하는 순서대로 나오기 때문에, 알파벳 순서 또는 오름차순으로 정렬되어 있지 않습니다."
   ]
  },
  {
   "cell_type": "code",
   "execution_count": null,
   "metadata": {
    "colab": {},
    "colab_type": "code",
    "id": "psoOzQ846FQA"
   },
   "outputs": [],
   "source": []
  },
  {
   "cell_type": "markdown",
   "metadata": {
    "colab_type": "text",
    "id": "OtixkUitL_Ov"
   },
   "source": [
    "### pd.DataFrame.groupby()\n",
    " - 집단에 대한 통계량 확인 \n",
    " \n",
    "<img src=\"https://s3.amazonaws.com/files.dezyre.com/images/Tutorials/Split+Apply+Combine+Strategy.png\" width=\"700\" height=\"500\">"
   ]
  },
  {
   "cell_type": "code",
   "execution_count": null,
   "metadata": {
    "colab": {},
    "colab_type": "code",
    "id": "voJRpw7lOurA"
   },
   "outputs": [],
   "source": []
  },
  {
   "cell_type": "markdown",
   "metadata": {
    "colab_type": "text",
    "id": "ryrWKTm56FQD"
   },
   "source": [
    "### pd.Series.plot(kind = \"bar\")\n",
    "- 막대 그래프\n",
    "- index 값이 x축, value값이 y축으로 대응 됩니다. \n",
    "- value_counts()의 결과물을 보여줄 때 유용합니다. \n",
    "- groupby된 결과물을 보여줄 때 유용합니다. "
   ]
  },
  {
   "cell_type": "code",
   "execution_count": null,
   "metadata": {
    "colab": {},
    "colab_type": "code",
    "id": "_c0F7QHW34Tw"
   },
   "outputs": [],
   "source": []
  },
  {
   "cell_type": "markdown",
   "metadata": {
    "colab_type": "text",
    "id": "3ZU4Z1Dy6FQf"
   },
   "source": [
    "### pd.Series.plot(kind = 'hist')\n",
    "- 히스토그램: 구간별로 속해있는 row의 개수를 시각화 합니다.\n",
    "- 수치형에서만 가능, 범주는 안됩니다!\n",
    "\n",
    "<img src=\"http://www.statisticslectures.com/images/continuoushistogram.gif\" width=\"700\" height=\"300\">"
   ]
  },
  {
   "cell_type": "code",
   "execution_count": null,
   "metadata": {
    "colab": {},
    "colab_type": "code",
    "id": "YMAR933qeXki"
   },
   "outputs": [],
   "source": []
  },
  {
   "cell_type": "markdown",
   "metadata": {
    "colab_type": "text",
    "id": "Xw1eF2In6FQj"
   },
   "source": [
    "- 보조선은 grid = True를 통해 추가 할 수 있습니다. "
   ]
  },
  {
   "cell_type": "code",
   "execution_count": null,
   "metadata": {
    "colab": {},
    "colab_type": "code",
    "id": "wPaL_8xkhkPx"
   },
   "outputs": [],
   "source": []
  },
  {
   "cell_type": "markdown",
   "metadata": {
    "colab_type": "text",
    "id": "sKTKc1zN2YVi"
   },
   "source": [
    "### pd.DataFrame.plot(x, y, kind = 'scatter')\n",
    "- 산점도: 두 변수간의 관계를 시각화"
   ]
  },
  {
   "cell_type": "code",
   "execution_count": null,
   "metadata": {
    "colab": {},
    "colab_type": "code",
    "id": "y7it8x3t2Vu9"
   },
   "outputs": [],
   "source": []
  },
  {
   "cell_type": "markdown",
   "metadata": {
    "colab_type": "text",
    "id": "3zjQY_KY2lnR"
   },
   "source": [
    "## 3. 데이터 전처리\n",
    "## Data Cleansing & Pre-Processing  "
   ]
  },
  {
   "cell_type": "markdown",
   "metadata": {
    "colab_type": "text",
    "id": "aI5VmBSc6FQo"
   },
   "source": [
    "### pd.Series.isna()\n",
    "- 결측치 여부를 확인해줍니다.\n",
    "- 결측치면 True, 아니면 False"
   ]
  },
  {
   "cell_type": "code",
   "execution_count": null,
   "metadata": {
    "colab": {},
    "colab_type": "code",
    "id": "aVdhVM_26FQp"
   },
   "outputs": [],
   "source": []
  },
  {
   "cell_type": "markdown",
   "metadata": {
    "colab_type": "text",
    "id": "RWO3VwAS6FQs"
   },
   "source": [
    "### pd.DataFrame.fillna()\n",
    "- 결측치를 채우고자 하는 column과 결측치를 대신하여 넣고자 하는 값을 명시해주어야 합니다.\n",
    "- 범주형 변수일 경우, 최빈값으로 대체할 수 있습니다. "
   ]
  },
  {
   "cell_type": "code",
   "execution_count": null,
   "metadata": {
    "colab": {},
    "colab_type": "code",
    "id": "9LZedbgU6FQy"
   },
   "outputs": [],
   "source": []
  },
  {
   "cell_type": "markdown",
   "metadata": {
    "colab_type": "text",
    "id": "GkXISj9WkIBs"
   },
   "source": [
    "### pd.Series.map()\n",
    "- 시리즈 내 값을 변환 할 때 사용하는 함수"
   ]
  },
  {
   "cell_type": "code",
   "execution_count": null,
   "metadata": {
    "colab": {},
    "colab_type": "code",
    "id": "biGQ3IeC7UDO"
   },
   "outputs": [],
   "source": []
  },
  {
   "cell_type": "markdown",
   "metadata": {
    "colab_type": "text",
    "id": "Qyq90ZzB2lnk"
   },
   "source": [
    "## 4. 변수 선택 및 모델 구축\n",
    "## Feature Engineering & Initial Modeling  "
   ]
  },
  {
   "cell_type": "code",
   "execution_count": null,
   "metadata": {
    "colab": {},
    "colab_type": "code",
    "id": "CV7h3RZ8RD0E"
   },
   "outputs": [],
   "source": []
  },
  {
   "cell_type": "markdown",
   "metadata": {
    "colab_type": "text",
    "id": "fduHTXm08D2R"
   },
   "source": [
    "### sklearn.linear_model.LogisticRegression()\n",
    "- 로지스틱 회귀 모형\n",
    "- 0과 1사이의 값을 산출"
   ]
  },
  {
   "cell_type": "code",
   "execution_count": null,
   "metadata": {
    "colab": {},
    "colab_type": "code",
    "id": "zydc7nJxOQGn"
   },
   "outputs": [],
   "source": []
  },
  {
   "cell_type": "markdown",
   "metadata": {
    "colab_type": "text",
    "id": "iskTHmNa9Lvd"
   },
   "source": [
    "### sklearn.tree.DecisionTreeClassifier()\n",
    "- 의사결정 나무 모델"
   ]
  },
  {
   "cell_type": "code",
   "execution_count": null,
   "metadata": {
    "colab": {},
    "colab_type": "code",
    "id": "5ZsS9Zx4OQXL"
   },
   "outputs": [],
   "source": []
  },
  {
   "cell_type": "markdown",
   "metadata": {
    "colab_type": "text",
    "id": "V21KUtyl2lnu"
   },
   "source": [
    "## 5. 모델 학습 및 검증\n",
    "## Model Tuning & Evaluation"
   ]
  },
  {
   "cell_type": "markdown",
   "metadata": {
    "colab_type": "text",
    "id": "dNb8A0rl9fgq"
   },
   "source": [
    "### model.fit()\n",
    "- 모델 학습"
   ]
  },
  {
   "cell_type": "code",
   "execution_count": null,
   "metadata": {
    "colab": {},
    "colab_type": "code",
    "id": "H4Nu1D-lR0xf"
   },
   "outputs": [],
   "source": []
  },
  {
   "cell_type": "markdown",
   "metadata": {
    "colab_type": "text",
    "id": "yoFipFlWOue3"
   },
   "source": [
    "### model.predict()\n",
    "- 모델 예측"
   ]
  },
  {
   "cell_type": "code",
   "execution_count": null,
   "metadata": {
    "colab": {},
    "colab_type": "code",
    "id": "YxqMbvOCOsn1"
   },
   "outputs": [],
   "source": []
  },
  {
   "cell_type": "markdown",
   "metadata": {
    "colab_type": "text",
    "id": "ZMCOzeuf9qVy"
   },
   "source": [
    "### model.predict_proba()\n",
    "- 모델 예측"
   ]
  },
  {
   "cell_type": "code",
   "execution_count": null,
   "metadata": {
    "colab": {},
    "colab_type": "code",
    "id": "FmjWKym3S4jB"
   },
   "outputs": [],
   "source": []
  },
  {
   "cell_type": "markdown",
   "metadata": {
    "colab_type": "text",
    "id": "qm0jUMv4OkZM"
   },
   "source": [
    "### pd.DataFrame.to_csv()\n",
    " - csv파일 저장하는 함수"
   ]
  },
  {
   "cell_type": "code",
   "execution_count": null,
   "metadata": {
    "colab": {},
    "colab_type": "code",
    "id": "sUR3hcxHUEfU"
   },
   "outputs": [],
   "source": []
  },
  {
   "cell_type": "markdown",
   "metadata": {
    "colab_type": "text",
    "id": "3BNtFKiZ2ln6"
   },
   "source": [
    "## 6. 결과 및 결언\n",
    "## Conclusion & Discussion"
   ]
  },
  {
   "cell_type": "code",
   "execution_count": null,
   "metadata": {
    "colab": {},
    "colab_type": "code",
    "id": "NMEdF_8z2ln7"
   },
   "outputs": [],
   "source": []
  }
 ],
 "metadata": {
  "colab": {
   "authorship_tag": "ABX9TyNUsZA0q7SUyvq2DpNHX+P7",
   "collapsed_sections": [],
   "mount_file_id": "1GOuKGa0S5_I0UKSuUsIpCrsKGUfvpJdE",
   "name": "타이타닉.ipynb",
   "provenance": []
  },
  "kernelspec": {
   "display_name": "Python 3",
   "language": "python",
   "name": "python3"
  },
  "language_info": {
   "codemirror_mode": {
    "name": "ipython",
    "version": 3
   },
   "file_extension": ".py",
   "mimetype": "text/x-python",
   "name": "python",
   "nbconvert_exporter": "python",
   "pygments_lexer": "ipython3",
   "version": "3.7.6"
  },
  "toc": {
   "base_numbering": 1,
   "nav_menu": {},
   "number_sections": true,
   "sideBar": true,
   "skip_h1_title": false,
   "title_cell": "Table of Contents",
   "title_sidebar": "Contents",
   "toc_cell": false,
   "toc_position": {},
   "toc_section_display": true,
   "toc_window_display": false
  },
  "varInspector": {
   "cols": {
    "lenName": 16,
    "lenType": 16,
    "lenVar": 40
   },
   "kernels_config": {
    "python": {
     "delete_cmd_postfix": "",
     "delete_cmd_prefix": "del ",
     "library": "var_list.py",
     "varRefreshCmd": "print(var_dic_list())"
    },
    "r": {
     "delete_cmd_postfix": ") ",
     "delete_cmd_prefix": "rm(",
     "library": "var_list.r",
     "varRefreshCmd": "cat(var_dic_list()) "
    }
   },
   "types_to_exclude": [
    "module",
    "function",
    "builtin_function_or_method",
    "instance",
    "_Feature"
   ],
   "window_display": false
  }
 },
 "nbformat": 4,
 "nbformat_minor": 1
}
